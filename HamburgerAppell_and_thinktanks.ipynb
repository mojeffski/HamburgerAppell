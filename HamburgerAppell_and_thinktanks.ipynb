{
 "cells": [
  {
   "cell_type": "markdown",
   "metadata": {
    "collapsed": true
   },
   "source": [
    "# Comparison of German economic Professors that signed the Hamburger Appell"
   ]
  },
  {
   "cell_type": "markdown",
   "metadata": {},
   "source": [
    "#### Der Hamburger Appell"
   ]
  },
  {
   "cell_type": "markdown",
   "metadata": {},
   "source": [
    "Der Hamburger Appell ist ein kurz vor der Bundestagswahl 2005 von 243 Wirtschaftswissenschaftlern [1] unterzeichneter, öffentlicher Appell für wirtschaftspolitische Reformen in Deutschland. Der Appell wurde durch eine Anzeigenserie der Initiative Neue Soziale Marktwirtschaft (INSM), in welcher der Hamburger Appell auszugsweise zitiert wurde, in die breite Öffentlichkeit getragen.\n",
    "\n",
    "In dem Appell werden fiskalische Ausgabenprogramme als grundsätzlich untauglich eingestuft. Die gesamtwirtschaftliche Nachfrage sei „eine bedeutende und komplex strukturierte ökonomische Größe, die sich einer nachhaltigen Steuerung weitestgehend entzieht.“ Deshalb müsse „eine verantwortungsbewusste Finanzpolitik streng stabilitätsorientiert sein.“ [5] Konkret wurde u.a. gefordert, dass die Geringverdienenden weniger verdienen sollten und die Sozialhilfe vermehrt von Lohnersatzleistungen zu Lohnzuschüssen wechseln müsse. (Source:Wikipedia)"
   ]
  },
  {
   "cell_type": "code",
   "execution_count": 20,
   "metadata": {
    "collapsed": false
   },
   "outputs": [],
   "source": [
    "import pandas as pd\n",
    "import Levenshtein\n",
    "import difflib\n",
    "import regex as re"
   ]
  },
  {
   "cell_type": "markdown",
   "metadata": {},
   "source": [
    "**The list contains supervisory and advisory-memberships of think tanks, which have pushed for auterity politics after financial crisis. See: http://bit.ly/2fcjGwT**"
   ]
  },
  {
   "cell_type": "code",
   "execution_count": 21,
   "metadata": {
    "collapsed": false
   },
   "outputs": [],
   "source": [
    "Austerity_Path = '~/Csv_Dateien/thinktanks.csv'\n",
    "Austerity_Members = pd.read_csv(Austerity_Path, encoding = \"ISO-8859-1\", sep=\";\")"
   ]
  },
  {
   "cell_type": "markdown",
   "metadata": {},
   "source": [
    "**Comparison to Professors that have signed The Hamburger Appell**"
   ]
  },
  {
   "cell_type": "code",
   "execution_count": 22,
   "metadata": {
    "collapsed": false
   },
   "outputs": [],
   "source": [
    "df_Path = '~/Csv_Dateien/HamburgerAppell.csv'\n",
    "df = pd.read_csv(df_Path,encoding =\"ISO-8859-1\", sep=\";\")\n",
    "\n",
    "\n"
   ]
  },
  {
   "cell_type": "markdown",
   "metadata": {},
   "source": [
    "**Strip trailing spaces:**"
   ]
  },
  {
   "cell_type": "code",
   "execution_count": 23,
   "metadata": {
    "collapsed": true
   },
   "outputs": [],
   "source": [
    "df['Namen'] = df['Namen'].map(lambda x: x.strip())"
   ]
  },
  {
   "cell_type": "markdown",
   "metadata": {},
   "source": [
    "**drop duplicate entries**"
   ]
  },
  {
   "cell_type": "code",
   "execution_count": 24,
   "metadata": {
    "collapsed": true
   },
   "outputs": [],
   "source": [
    "df = df.drop_duplicates()"
   ]
  },
  {
   "cell_type": "markdown",
   "metadata": {},
   "source": [
    "**separate Listentries by substring 'Dr.'**"
   ]
  },
  {
   "cell_type": "code",
   "execution_count": 25,
   "metadata": {
    "collapsed": false
   },
   "outputs": [
    {
     "data": {
      "text/html": [
       "<div>\n",
       "<table border=\"1\" class=\"dataframe\">\n",
       "  <thead>\n",
       "    <tr style=\"text-align: right;\">\n",
       "      <th></th>\n",
       "      <th>Forschungseinrichtung</th>\n",
       "      <th>Name</th>\n",
       "    </tr>\n",
       "  </thead>\n",
       "  <tbody>\n",
       "    <tr>\n",
       "      <th>0</th>\n",
       "      <td>Universit_t G_ttingen</td>\n",
       "      <td>Frank Achtenhagen</td>\n",
       "    </tr>\n",
       "    <tr>\n",
       "      <th>1</th>\n",
       "      <td>Universit_t Hohenheim</td>\n",
       "      <td>Michael Ahlheim</td>\n",
       "    </tr>\n",
       "    <tr>\n",
       "      <th>2</th>\n",
       "      <td>Universit_t des Saarlandes</td>\n",
       "      <td>Max Albert</td>\n",
       "    </tr>\n",
       "    <tr>\n",
       "      <th>3</th>\n",
       "      <td>Universit_t Essen</td>\n",
       "      <td>Erwin Amann</td>\n",
       "    </tr>\n",
       "    <tr>\n",
       "      <th>4</th>\n",
       "      <td>Universit_t Duisburg</td>\n",
       "      <td>Peter Anker</td>\n",
       "    </tr>\n",
       "  </tbody>\n",
       "</table>\n",
       "</div>"
      ],
      "text/plain": [
       "         Forschungseinrichtung                Name\n",
       "0        Universit_t G_ttingen   Frank Achtenhagen\n",
       "1        Universit_t Hohenheim     Michael Ahlheim\n",
       "2   Universit_t des Saarlandes          Max Albert\n",
       "3            Universit_t Essen         Erwin Amann\n",
       "4         Universit_t Duisburg         Peter Anker"
      ]
     },
     "execution_count": 25,
     "metadata": {},
     "output_type": "execute_result"
    }
   ],
   "source": [
    "#dfname = df.drop(df.columns[[2,3,4]], axis=1)\n",
    "dfname = df\n",
    "dfname['Title'],dfname['Name'] = zip(*df.Namen.apply(lambda x: x.split('Dr.')))\n",
    "df = dfname.drop(dfname.columns[[0,2,3]], axis=1)\n",
    "df.head()"
   ]
  },
  {
   "cell_type": "markdown",
   "metadata": {},
   "source": [
    "**Cleaning the dataframe. Change Headings and replace commma wih semicolon**"
   ]
  },
  {
   "cell_type": "code",
   "execution_count": 26,
   "metadata": {
    "collapsed": false
   },
   "outputs": [],
   "source": [
    "for a in df['Name']:\n",
    "    if \",\" in a:\n",
    "        df['Name'] = df[\"Emp name\"].str.replace(\",\",\";\")\n",
    "    #if re.findall(',\\s',) not in a:\n",
    "        #print(\"no\")\n",
    "      \n",
    "df['Name'] = df['Name'].str.replace(r'\\;([a-zA-Z])',r'; \\1')\n"
   ]
  },
  {
   "cell_type": "markdown",
   "metadata": {},
   "source": [
    "**check the dataframe of economists that signed the Hamburger Appell**"
   ]
  },
  {
   "cell_type": "code",
   "execution_count": 27,
   "metadata": {
    "collapsed": false
   },
   "outputs": [
    {
     "data": {
      "text/html": [
       "<div>\n",
       "<table border=\"1\" class=\"dataframe\">\n",
       "  <thead>\n",
       "    <tr style=\"text-align: right;\">\n",
       "      <th></th>\n",
       "      <th>Forschungseinrichtung</th>\n",
       "      <th>Name</th>\n",
       "    </tr>\n",
       "  </thead>\n",
       "  <tbody>\n",
       "    <tr>\n",
       "      <th>0</th>\n",
       "      <td>Universit_t G_ttingen</td>\n",
       "      <td>Frank Achtenhagen</td>\n",
       "    </tr>\n",
       "    <tr>\n",
       "      <th>1</th>\n",
       "      <td>Universit_t Hohenheim</td>\n",
       "      <td>Michael Ahlheim</td>\n",
       "    </tr>\n",
       "    <tr>\n",
       "      <th>2</th>\n",
       "      <td>Universit_t des Saarlandes</td>\n",
       "      <td>Max Albert</td>\n",
       "    </tr>\n",
       "    <tr>\n",
       "      <th>3</th>\n",
       "      <td>Universit_t Essen</td>\n",
       "      <td>Erwin Amann</td>\n",
       "    </tr>\n",
       "    <tr>\n",
       "      <th>4</th>\n",
       "      <td>Universit_t Duisburg</td>\n",
       "      <td>Peter Anker</td>\n",
       "    </tr>\n",
       "  </tbody>\n",
       "</table>\n",
       "</div>"
      ],
      "text/plain": [
       "         Forschungseinrichtung                Name\n",
       "0        Universit_t G_ttingen   Frank Achtenhagen\n",
       "1        Universit_t Hohenheim     Michael Ahlheim\n",
       "2   Universit_t des Saarlandes          Max Albert\n",
       "3            Universit_t Essen         Erwin Amann\n",
       "4         Universit_t Duisburg         Peter Anker"
      ]
     },
     "execution_count": 27,
     "metadata": {},
     "output_type": "execute_result"
    }
   ],
   "source": [
    "df.head()"
   ]
  },
  {
   "cell_type": "markdown",
   "metadata": {},
   "source": [
    "**check dataframe of Advisory/Supervisory-Board of think tanks**"
   ]
  },
  {
   "cell_type": "code",
   "execution_count": 28,
   "metadata": {
    "collapsed": false
   },
   "outputs": [
    {
     "data": {
      "text/html": [
       "<div>\n",
       "<table border=\"1\" class=\"dataframe\">\n",
       "  <thead>\n",
       "    <tr style=\"text-align: right;\">\n",
       "      <th></th>\n",
       "      <th>Emp name</th>\n",
       "      <th>Thinktank</th>\n",
       "    </tr>\n",
       "  </thead>\n",
       "  <tbody>\n",
       "    <tr>\n",
       "      <th>0</th>\n",
       "      <td>EdwinMeese III</td>\n",
       "      <td>Adriatic Institute for Public Policy</td>\n",
       "    </tr>\n",
       "    <tr>\n",
       "      <th>1</th>\n",
       "      <td>JohnBlundell</td>\n",
       "      <td>Adriatic Institute for Public Policy</td>\n",
       "    </tr>\n",
       "    <tr>\n",
       "      <th>2</th>\n",
       "      <td>MikeBubalo</td>\n",
       "      <td>Adriatic Institute for Public Policy</td>\n",
       "    </tr>\n",
       "    <tr>\n",
       "      <th>3</th>\n",
       "      <td>EamonnButler</td>\n",
       "      <td>Adriatic Institute for Public Policy</td>\n",
       "    </tr>\n",
       "    <tr>\n",
       "      <th>4</th>\n",
       "      <td>HelenDisney</td>\n",
       "      <td>Adriatic Institute for Public Policy</td>\n",
       "    </tr>\n",
       "  </tbody>\n",
       "</table>\n",
       "</div>"
      ],
      "text/plain": [
       "          Emp name                             Thinktank\n",
       "0   EdwinMeese III  Adriatic Institute for Public Policy\n",
       "1     JohnBlundell  Adriatic Institute for Public Policy\n",
       "2       MikeBubalo  Adriatic Institute for Public Policy\n",
       "3     EamonnButler  Adriatic Institute for Public Policy\n",
       "4      HelenDisney  Adriatic Institute for Public Policy"
      ]
     },
     "execution_count": 28,
     "metadata": {},
     "output_type": "execute_result"
    }
   ],
   "source": [
    "Austerity_Members.head()"
   ]
  },
  {
   "cell_type": "markdown",
   "metadata": {},
   "source": [
    "**check if indidivdual that signed Hamburger Appell holds think tank membership. \n",
    "Does not only account for direct matches but takes similar names into account (jaro_score).** "
   ]
  },
  {
   "cell_type": "code",
   "execution_count": 29,
   "metadata": {
    "collapsed": false
   },
   "outputs": [],
   "source": [
    "Austerity_and_Potential = []\n",
    "\n",
    "for name in df['Name']:\n",
    "    Potential = []\n",
    "    Member = []\n",
    "    for aust in Austerity_Members['Emp name']:\n",
    "        aust = str(aust)\n",
    "        distance = Levenshtein.distance(name,aust)\n",
    "        jaro = Levenshtein.jaro_winkler(name,aust)\n",
    "        if name == aust:\n",
    "            Member.append(name)\n",
    "            Member.append(aust)\n",
    "            Member.append(jaro)\n",
    "        \n",
    "        elif distance <= 3 and distance != 0 and jaro>=0.80:\n",
    "            Potential.append(name)\n",
    "            Potential.append(aust)\n",
    "            Potential.append(jaro)\n",
    "    if Member != []:\n",
    "        Austerity_and_Potential.append(Member)\n",
    "    if Potential != []:        \n",
    "        Austerity_and_Potential.append(Potential)   \n"
   ]
  },
  {
   "cell_type": "markdown",
   "metadata": {},
   "source": [
    "**Create compared List which entails names of economists and corresponding names of think tank boards**"
   ]
  },
  {
   "cell_type": "code",
   "execution_count": 30,
   "metadata": {
    "collapsed": false
   },
   "outputs": [
    {
     "data": {
      "text/html": [
       "<div>\n",
       "<table border=\"1\" class=\"dataframe\">\n",
       "  <thead>\n",
       "    <tr style=\"text-align: right;\">\n",
       "      <th></th>\n",
       "      <th>Oekonom</th>\n",
       "      <th>Emp name</th>\n",
       "      <th>JaroScore</th>\n",
       "    </tr>\n",
       "  </thead>\n",
       "  <tbody>\n",
       "    <tr>\n",
       "      <th>0</th>\n",
       "      <td>Charles Blankart</td>\n",
       "      <td>Charles B.Blankart</td>\n",
       "      <td>1.000000</td>\n",
       "    </tr>\n",
       "    <tr>\n",
       "      <th>1</th>\n",
       "      <td>Lars P. Feld</td>\n",
       "      <td>Lars P.Feld</td>\n",
       "      <td>0.872960</td>\n",
       "    </tr>\n",
       "    <tr>\n",
       "      <th>2</th>\n",
       "      <td>Justus Haucap</td>\n",
       "      <td>JustusHaucap</td>\n",
       "      <td>0.992857</td>\n",
       "    </tr>\n",
       "    <tr>\n",
       "      <th>3</th>\n",
       "      <td>Kai Konrad</td>\n",
       "      <td>Kai A.Konrad</td>\n",
       "      <td>0.974359</td>\n",
       "    </tr>\n",
       "    <tr>\n",
       "      <th>4</th>\n",
       "      <td>Wolf Sch_fer</td>\n",
       "      <td>WolfSch_fer</td>\n",
       "      <td>0.948718</td>\n",
       "    </tr>\n",
       "    <tr>\n",
       "      <th>5</th>\n",
       "      <td>Friedrich Schneider</td>\n",
       "      <td>FriedrichSchneider</td>\n",
       "      <td>1.000000</td>\n",
       "    </tr>\n",
       "    <tr>\n",
       "      <th>6</th>\n",
       "      <td>Christian Seidl</td>\n",
       "      <td>ChristianSeidel</td>\n",
       "      <td>0.936111</td>\n",
       "    </tr>\n",
       "    <tr>\n",
       "      <th>7</th>\n",
       "      <td>Joachim Starbatty</td>\n",
       "      <td>JoachimStarbatty</td>\n",
       "      <td>0.962963</td>\n",
       "    </tr>\n",
       "    <tr>\n",
       "      <th>8</th>\n",
       "      <td>Thomas Straubhaar</td>\n",
       "      <td>ThomasStraubhaar</td>\n",
       "      <td>0.994444</td>\n",
       "    </tr>\n",
       "    <tr>\n",
       "      <th>9</th>\n",
       "      <td>Thusnelda Tivig</td>\n",
       "      <td>ThusneldaTivig</td>\n",
       "      <td>0.958333</td>\n",
       "    </tr>\n",
       "    <tr>\n",
       "      <th>10</th>\n",
       "      <td>Viktor Vanberg</td>\n",
       "      <td>Viktor J.Vanberg</td>\n",
       "      <td>0.992157</td>\n",
       "    </tr>\n",
       "    <tr>\n",
       "      <th>11</th>\n",
       "      <td>Roland Vaubel</td>\n",
       "      <td>RolandVaubel</td>\n",
       "      <td>0.992857</td>\n",
       "    </tr>\n",
       "    <tr>\n",
       "      <th>12</th>\n",
       "      <td>Gerhard Wegner</td>\n",
       "      <td>GerhardWegner</td>\n",
       "      <td>0.955556</td>\n",
       "    </tr>\n",
       "  </tbody>\n",
       "</table>\n",
       "</div>"
      ],
      "text/plain": [
       "                 Oekonom             Emp name  JaroScore\n",
       "0       Charles Blankart   Charles B.Blankart   1.000000\n",
       "1           Lars P. Feld          Lars P.Feld   0.872960\n",
       "2          Justus Haucap         JustusHaucap   0.992857\n",
       "3             Kai Konrad         Kai A.Konrad   0.974359\n",
       "4           Wolf Sch_fer          WolfSch_fer   0.948718\n",
       "5    Friedrich Schneider   FriedrichSchneider   1.000000\n",
       "6        Christian Seidl      ChristianSeidel   0.936111\n",
       "7      Joachim Starbatty     JoachimStarbatty   0.962963\n",
       "8      Thomas Straubhaar     ThomasStraubhaar   0.994444\n",
       "9        Thusnelda Tivig       ThusneldaTivig   0.958333\n",
       "10        Viktor Vanberg     Viktor J.Vanberg   0.992157\n",
       "11         Roland Vaubel         RolandVaubel   0.992857\n",
       "12        Gerhard Wegner        GerhardWegner   0.955556"
      ]
     },
     "execution_count": 30,
     "metadata": {},
     "output_type": "execute_result"
    }
   ],
   "source": [
    "Liste = pd.DataFrame(Austerity_and_Potential)\n",
    "Liste = Liste.drop_duplicates()\n",
    "Liste = Liste.drop(Liste.columns[[3,4,5]], axis=1)\n",
    "Liste.columns = ['Oekonom', 'Emp name', 'JaroScore']\n",
    "#Liste.to_csv('/Users/Waspish/Documents/WZB/ListComparison/Potential_MPS_Member.csv',encoding = \"ISO-8859-1\", sep=\";\")\n",
    "\n",
    "Liste"
   ]
  },
  {
   "cell_type": "markdown",
   "metadata": {},
   "source": [
    "**Check how many matches we get**"
   ]
  },
  {
   "cell_type": "code",
   "execution_count": 31,
   "metadata": {
    "collapsed": false
   },
   "outputs": [
    {
     "data": {
      "text/plain": [
       "13"
      ]
     },
     "execution_count": 31,
     "metadata": {},
     "output_type": "execute_result"
    }
   ],
   "source": [
    "len(Liste.Oekonom)"
   ]
  },
  {
   "cell_type": "markdown",
   "metadata": {},
   "source": [
    "**Rename the list**"
   ]
  },
  {
   "cell_type": "code",
   "execution_count": 32,
   "metadata": {
    "collapsed": false
   },
   "outputs": [],
   "source": [
    "Liste = Liste.merge(Austerity_Members, on='Emp name', how='left')\n",
    "Liste.columns = ['Name', 'Oekonom','JaroScore','Thinktank']"
   ]
  },
  {
   "cell_type": "markdown",
   "metadata": {},
   "source": [
    "**Merge both lists**"
   ]
  },
  {
   "cell_type": "code",
   "execution_count": 33,
   "metadata": {
    "collapsed": false
   },
   "outputs": [
    {
     "data": {
      "text/html": [
       "<div>\n",
       "<table border=\"1\" class=\"dataframe\">\n",
       "  <thead>\n",
       "    <tr style=\"text-align: right;\">\n",
       "      <th></th>\n",
       "      <th>Name</th>\n",
       "      <th>Thinktank</th>\n",
       "      <th>Forschungseinrichtung</th>\n",
       "      <th>Title</th>\n",
       "    </tr>\n",
       "  </thead>\n",
       "  <tbody>\n",
       "    <tr>\n",
       "      <th>0</th>\n",
       "      <td>Charles Blankart</td>\n",
       "      <td>Die Familienunternehmer - ASU</td>\n",
       "      <td>Humboldt-Universit_t Berlin</td>\n",
       "      <td>Prof.</td>\n",
       "    </tr>\n",
       "    <tr>\n",
       "      <th>1</th>\n",
       "      <td>Charles Blankart</td>\n",
       "      <td>Hayek Institute</td>\n",
       "      <td>Humboldt-Universit_t Berlin</td>\n",
       "      <td>Prof.</td>\n",
       "    </tr>\n",
       "    <tr>\n",
       "      <th>2</th>\n",
       "      <td>Lars P. Feld</td>\n",
       "      <td>Aktionsgemeinschaft Soziale Marktwirtschaft</td>\n",
       "      <td>Universit_t Marburg</td>\n",
       "      <td>Prof.</td>\n",
       "    </tr>\n",
       "    <tr>\n",
       "      <th>3</th>\n",
       "      <td>Justus Haucap</td>\n",
       "      <td>ECONWATCH</td>\n",
       "      <td>Universit_t Bochum</td>\n",
       "      <td>Prof.</td>\n",
       "    </tr>\n",
       "    <tr>\n",
       "      <th>4</th>\n",
       "      <td>Kai Konrad</td>\n",
       "      <td>ECONWATCH</td>\n",
       "      <td>Wissenschaftszentrum Berlin</td>\n",
       "      <td>Prof.</td>\n",
       "    </tr>\n",
       "    <tr>\n",
       "      <th>5</th>\n",
       "      <td>Wolf Sch_fer</td>\n",
       "      <td>Hamburg Institute for International Economics</td>\n",
       "      <td>Helmut-Schmidt-Universit_t Hamburg</td>\n",
       "      <td>Prof.</td>\n",
       "    </tr>\n",
       "    <tr>\n",
       "      <th>6</th>\n",
       "      <td>Friedrich Schneider</td>\n",
       "      <td>Agenda Austria</td>\n",
       "      <td>Universit_t Linz</td>\n",
       "      <td>Prof.</td>\n",
       "    </tr>\n",
       "    <tr>\n",
       "      <th>7</th>\n",
       "      <td>Christian Seidl</td>\n",
       "      <td>Hanns Seidel Stiftung</td>\n",
       "      <td>Universit_t Kiel</td>\n",
       "      <td>Prof.</td>\n",
       "    </tr>\n",
       "    <tr>\n",
       "      <th>8</th>\n",
       "      <td>Joachim Starbatty</td>\n",
       "      <td>Aktionsgemeinschaft Soziale Marktwirtschaft</td>\n",
       "      <td>Universit_t TÙbingen</td>\n",
       "      <td>Prof.</td>\n",
       "    </tr>\n",
       "    <tr>\n",
       "      <th>9</th>\n",
       "      <td>Thomas Straubhaar</td>\n",
       "      <td>Friedrich Naumann Foundation</td>\n",
       "      <td>Universit_t Hamburg und HWWI</td>\n",
       "      <td>Prof.</td>\n",
       "    </tr>\n",
       "    <tr>\n",
       "      <th>10</th>\n",
       "      <td>Thomas Straubhaar</td>\n",
       "      <td>Hamburg Institute for International Economics</td>\n",
       "      <td>Universit_t Hamburg und HWWI</td>\n",
       "      <td>Prof.</td>\n",
       "    </tr>\n",
       "    <tr>\n",
       "      <th>11</th>\n",
       "      <td>Thusnelda Tivig</td>\n",
       "      <td>Hamburg Institute for International Economics</td>\n",
       "      <td>Universit_t Rostock</td>\n",
       "      <td>Prof.</td>\n",
       "    </tr>\n",
       "    <tr>\n",
       "      <th>12</th>\n",
       "      <td>Thusnelda Tivig</td>\n",
       "      <td>Hamburg Institute for International Economics</td>\n",
       "      <td>Universit_t Rostock</td>\n",
       "      <td>Prof.</td>\n",
       "    </tr>\n",
       "    <tr>\n",
       "      <th>13</th>\n",
       "      <td>Viktor Vanberg</td>\n",
       "      <td>Hayek Institute</td>\n",
       "      <td>Universit_t Freiburg</td>\n",
       "      <td>Prof.</td>\n",
       "    </tr>\n",
       "    <tr>\n",
       "      <th>14</th>\n",
       "      <td>Roland Vaubel</td>\n",
       "      <td>Hayek-Gesellschaft</td>\n",
       "      <td>Universit_t Mannheim</td>\n",
       "      <td>Prof.</td>\n",
       "    </tr>\n",
       "    <tr>\n",
       "      <th>15</th>\n",
       "      <td>Gerhard Wegner</td>\n",
       "      <td>Aktionsgemeinschaft Soziale Marktwirtschaft</td>\n",
       "      <td>Universit_t Erfurt</td>\n",
       "      <td>Prof.</td>\n",
       "    </tr>\n",
       "  </tbody>\n",
       "</table>\n",
       "</div>"
      ],
      "text/plain": [
       "                    Name                                      Thinktank  \\\n",
       "0       Charles Blankart                  Die Familienunternehmer - ASU   \n",
       "1       Charles Blankart                                Hayek Institute   \n",
       "2           Lars P. Feld    Aktionsgemeinschaft Soziale Marktwirtschaft   \n",
       "3          Justus Haucap                                      ECONWATCH   \n",
       "4             Kai Konrad                                      ECONWATCH   \n",
       "5           Wolf Sch_fer  Hamburg Institute for International Economics   \n",
       "6    Friedrich Schneider                                 Agenda Austria   \n",
       "7        Christian Seidl                          Hanns Seidel Stiftung   \n",
       "8      Joachim Starbatty    Aktionsgemeinschaft Soziale Marktwirtschaft   \n",
       "9      Thomas Straubhaar                   Friedrich Naumann Foundation   \n",
       "10     Thomas Straubhaar  Hamburg Institute for International Economics   \n",
       "11       Thusnelda Tivig  Hamburg Institute for International Economics   \n",
       "12       Thusnelda Tivig  Hamburg Institute for International Economics   \n",
       "13        Viktor Vanberg                                Hayek Institute   \n",
       "14         Roland Vaubel                             Hayek-Gesellschaft   \n",
       "15        Gerhard Wegner    Aktionsgemeinschaft Soziale Marktwirtschaft   \n",
       "\n",
       "                  Forschungseinrichtung   Title  \n",
       "0           Humboldt-Universit_t Berlin  Prof.   \n",
       "1           Humboldt-Universit_t Berlin  Prof.   \n",
       "2                   Universit_t Marburg  Prof.   \n",
       "3                    Universit_t Bochum  Prof.   \n",
       "4           Wissenschaftszentrum Berlin  Prof.   \n",
       "5    Helmut-Schmidt-Universit_t Hamburg  Prof.   \n",
       "6                      Universit_t Linz  Prof.   \n",
       "7                      Universit_t Kiel  Prof.   \n",
       "8                  Universit_t TÙbingen  Prof.   \n",
       "9          Universit_t Hamburg und HWWI  Prof.   \n",
       "10         Universit_t Hamburg und HWWI  Prof.   \n",
       "11                  Universit_t Rostock  Prof.   \n",
       "12                  Universit_t Rostock  Prof.   \n",
       "13                 Universit_t Freiburg  Prof.   \n",
       "14                 Universit_t Mannheim  Prof.   \n",
       "15                   Universit_t Erfurt  Prof.   "
      ]
     },
     "execution_count": 33,
     "metadata": {},
     "output_type": "execute_result"
    }
   ],
   "source": [
    "Liste = Liste.merge(dfname, on='Name', how='left')\n",
    "Liste = Liste.drop(Liste.columns[[1,2,4,6]], axis=1)\n",
    "Liste"
   ]
  },
  {
   "cell_type": "markdown",
   "metadata": {},
   "source": [
    "**Drop duplicates**"
   ]
  },
  {
   "cell_type": "code",
   "execution_count": 34,
   "metadata": {
    "collapsed": false
   },
   "outputs": [
    {
     "data": {
      "text/html": [
       "<div>\n",
       "<table border=\"1\" class=\"dataframe\">\n",
       "  <thead>\n",
       "    <tr style=\"text-align: right;\">\n",
       "      <th></th>\n",
       "      <th>Name</th>\n",
       "      <th>Thinktank</th>\n",
       "      <th>Forschungseinrichtung</th>\n",
       "      <th>Title</th>\n",
       "    </tr>\n",
       "  </thead>\n",
       "  <tbody>\n",
       "    <tr>\n",
       "      <th>0</th>\n",
       "      <td>Charles Blankart</td>\n",
       "      <td>Die Familienunternehmer - ASU</td>\n",
       "      <td>Humboldt-Universit_t Berlin</td>\n",
       "      <td>Prof.</td>\n",
       "    </tr>\n",
       "    <tr>\n",
       "      <th>1</th>\n",
       "      <td>Charles Blankart</td>\n",
       "      <td>Hayek Institute</td>\n",
       "      <td>Humboldt-Universit_t Berlin</td>\n",
       "      <td>Prof.</td>\n",
       "    </tr>\n",
       "    <tr>\n",
       "      <th>2</th>\n",
       "      <td>Lars P. Feld</td>\n",
       "      <td>Aktionsgemeinschaft Soziale Marktwirtschaft</td>\n",
       "      <td>Universit_t Marburg</td>\n",
       "      <td>Prof.</td>\n",
       "    </tr>\n",
       "    <tr>\n",
       "      <th>3</th>\n",
       "      <td>Justus Haucap</td>\n",
       "      <td>ECONWATCH</td>\n",
       "      <td>Universit_t Bochum</td>\n",
       "      <td>Prof.</td>\n",
       "    </tr>\n",
       "    <tr>\n",
       "      <th>4</th>\n",
       "      <td>Kai Konrad</td>\n",
       "      <td>ECONWATCH</td>\n",
       "      <td>Wissenschaftszentrum Berlin</td>\n",
       "      <td>Prof.</td>\n",
       "    </tr>\n",
       "    <tr>\n",
       "      <th>5</th>\n",
       "      <td>Wolf Sch_fer</td>\n",
       "      <td>Hamburg Institute for International Economics</td>\n",
       "      <td>Helmut-Schmidt-Universit_t Hamburg</td>\n",
       "      <td>Prof.</td>\n",
       "    </tr>\n",
       "    <tr>\n",
       "      <th>6</th>\n",
       "      <td>Friedrich Schneider</td>\n",
       "      <td>Agenda Austria</td>\n",
       "      <td>Universit_t Linz</td>\n",
       "      <td>Prof.</td>\n",
       "    </tr>\n",
       "    <tr>\n",
       "      <th>7</th>\n",
       "      <td>Christian Seidl</td>\n",
       "      <td>Hanns Seidel Stiftung</td>\n",
       "      <td>Universit_t Kiel</td>\n",
       "      <td>Prof.</td>\n",
       "    </tr>\n",
       "    <tr>\n",
       "      <th>8</th>\n",
       "      <td>Joachim Starbatty</td>\n",
       "      <td>Aktionsgemeinschaft Soziale Marktwirtschaft</td>\n",
       "      <td>Universit_t TÙbingen</td>\n",
       "      <td>Prof.</td>\n",
       "    </tr>\n",
       "    <tr>\n",
       "      <th>9</th>\n",
       "      <td>Thomas Straubhaar</td>\n",
       "      <td>Friedrich Naumann Foundation</td>\n",
       "      <td>Universit_t Hamburg und HWWI</td>\n",
       "      <td>Prof.</td>\n",
       "    </tr>\n",
       "    <tr>\n",
       "      <th>10</th>\n",
       "      <td>Thomas Straubhaar</td>\n",
       "      <td>Hamburg Institute for International Economics</td>\n",
       "      <td>Universit_t Hamburg und HWWI</td>\n",
       "      <td>Prof.</td>\n",
       "    </tr>\n",
       "    <tr>\n",
       "      <th>11</th>\n",
       "      <td>Thusnelda Tivig</td>\n",
       "      <td>Hamburg Institute for International Economics</td>\n",
       "      <td>Universit_t Rostock</td>\n",
       "      <td>Prof.</td>\n",
       "    </tr>\n",
       "    <tr>\n",
       "      <th>13</th>\n",
       "      <td>Viktor Vanberg</td>\n",
       "      <td>Hayek Institute</td>\n",
       "      <td>Universit_t Freiburg</td>\n",
       "      <td>Prof.</td>\n",
       "    </tr>\n",
       "    <tr>\n",
       "      <th>14</th>\n",
       "      <td>Roland Vaubel</td>\n",
       "      <td>Hayek-Gesellschaft</td>\n",
       "      <td>Universit_t Mannheim</td>\n",
       "      <td>Prof.</td>\n",
       "    </tr>\n",
       "    <tr>\n",
       "      <th>15</th>\n",
       "      <td>Gerhard Wegner</td>\n",
       "      <td>Aktionsgemeinschaft Soziale Marktwirtschaft</td>\n",
       "      <td>Universit_t Erfurt</td>\n",
       "      <td>Prof.</td>\n",
       "    </tr>\n",
       "  </tbody>\n",
       "</table>\n",
       "</div>"
      ],
      "text/plain": [
       "                    Name                                      Thinktank  \\\n",
       "0       Charles Blankart                  Die Familienunternehmer - ASU   \n",
       "1       Charles Blankart                                Hayek Institute   \n",
       "2           Lars P. Feld    Aktionsgemeinschaft Soziale Marktwirtschaft   \n",
       "3          Justus Haucap                                      ECONWATCH   \n",
       "4             Kai Konrad                                      ECONWATCH   \n",
       "5           Wolf Sch_fer  Hamburg Institute for International Economics   \n",
       "6    Friedrich Schneider                                 Agenda Austria   \n",
       "7        Christian Seidl                          Hanns Seidel Stiftung   \n",
       "8      Joachim Starbatty    Aktionsgemeinschaft Soziale Marktwirtschaft   \n",
       "9      Thomas Straubhaar                   Friedrich Naumann Foundation   \n",
       "10     Thomas Straubhaar  Hamburg Institute for International Economics   \n",
       "11       Thusnelda Tivig  Hamburg Institute for International Economics   \n",
       "13        Viktor Vanberg                                Hayek Institute   \n",
       "14         Roland Vaubel                             Hayek-Gesellschaft   \n",
       "15        Gerhard Wegner    Aktionsgemeinschaft Soziale Marktwirtschaft   \n",
       "\n",
       "                  Forschungseinrichtung   Title  \n",
       "0           Humboldt-Universit_t Berlin  Prof.   \n",
       "1           Humboldt-Universit_t Berlin  Prof.   \n",
       "2                   Universit_t Marburg  Prof.   \n",
       "3                    Universit_t Bochum  Prof.   \n",
       "4           Wissenschaftszentrum Berlin  Prof.   \n",
       "5    Helmut-Schmidt-Universit_t Hamburg  Prof.   \n",
       "6                      Universit_t Linz  Prof.   \n",
       "7                      Universit_t Kiel  Prof.   \n",
       "8                  Universit_t TÙbingen  Prof.   \n",
       "9          Universit_t Hamburg und HWWI  Prof.   \n",
       "10         Universit_t Hamburg und HWWI  Prof.   \n",
       "11                  Universit_t Rostock  Prof.   \n",
       "13                 Universit_t Freiburg  Prof.   \n",
       "14                 Universit_t Mannheim  Prof.   \n",
       "15                   Universit_t Erfurt  Prof.   "
      ]
     },
     "execution_count": 34,
     "metadata": {},
     "output_type": "execute_result"
    }
   ],
   "source": [
    "#Liste = Liste.Thinktank.append(Liste.Forschungseinrichtung)\n",
    "Liste = Liste.drop_duplicates()\n",
    "Liste"
   ]
  },
  {
   "cell_type": "markdown",
   "metadata": {
    "collapsed": false
   },
   "source": [
    "# Comparison if Individual is in Mont Pelerin Society"
   ]
  },
  {
   "cell_type": "markdown",
   "metadata": {},
   "source": [
    "Die Mont Pèlerin Society (MPS) ist ein 1947 von Friedrich von Hayek gegründeter Zusammenschluss von Akademikern, Geschäftsleuten und Journalisten, mit dem Ziel, zukünftige Generationen vom Wirtschaftsliberalismus zu überzeugen (Source: Wikipedia)"
   ]
  },
  {
   "cell_type": "markdown",
   "metadata": {},
   "source": [
    "**MPS_Members is a list of all active and former Members of the Mont Pelerin Society**"
   ]
  },
  {
   "cell_type": "code",
   "execution_count": 40,
   "metadata": {
    "collapsed": false
   },
   "outputs": [
    {
     "data": {
      "text/html": [
       "<div>\n",
       "<table border=\"1\" class=\"dataframe\">\n",
       "  <thead>\n",
       "    <tr style=\"text-align: right;\">\n",
       "      <th></th>\n",
       "      <th>MPSMitglieder</th>\n",
       "    </tr>\n",
       "  </thead>\n",
       "  <tbody>\n",
       "    <tr>\n",
       "      <th>0</th>\n",
       "      <td>Harry Burrows Acton</td>\n",
       "    </tr>\n",
       "    <tr>\n",
       "      <th>1</th>\n",
       "      <td>Wayne K. Adams</td>\n",
       "    </tr>\n",
       "    <tr>\n",
       "      <th>2</th>\n",
       "      <td>William H. Adams, III</td>\n",
       "    </tr>\n",
       "    <tr>\n",
       "      <th>3</th>\n",
       "      <td>Douglas K. Adie</td>\n",
       "    </tr>\n",
       "    <tr>\n",
       "      <th>4</th>\n",
       "      <td>Alfred (Fred) Aftalion</td>\n",
       "    </tr>\n",
       "  </tbody>\n",
       "</table>\n",
       "</div>"
      ],
      "text/plain": [
       "            MPSMitglieder\n",
       "0     Harry Burrows Acton\n",
       "1          Wayne K. Adams\n",
       "2   William H. Adams, III\n",
       "3         Douglas K. Adie\n",
       "4  Alfred (Fred) Aftalion"
      ]
     },
     "execution_count": 40,
     "metadata": {},
     "output_type": "execute_result"
    }
   ],
   "source": [
    "MPS_Path = '~/Csv_Dateien/MPS_Members.csv'\n",
    "MPS_Members = pd.read_csv(MPS_Path, encoding = \"ISO-8859-1\", sep=\";\")\n",
    "MPS_Members.head()"
   ]
  },
  {
   "cell_type": "markdown",
   "metadata": {},
   "source": [
    "**check if indidivdual that signed Hamburger Appell holds membership in the mont pelerin society. \n",
    "Does not only account for direct matches but takes similar names into account (jaro_score).** "
   ]
  },
  {
   "cell_type": "code",
   "execution_count": 41,
   "metadata": {
    "collapsed": false
   },
   "outputs": [],
   "source": [
    "Members_and_Potential = []\n",
    "\n",
    "for name in Liste['Name']:\n",
    "    Potential = []\n",
    "    Member = []\n",
    "    for mps in MPS_Members['MPSMitglieder']:\n",
    "        distance = Levenshtein.distance(name,mps)\n",
    "        jaro = Levenshtein.jaro_winkler(name,mps)\n",
    "        if name == mps:\n",
    "            Member.append(name)\n",
    "            Member.append(mps)\n",
    "            Member.append(jaro)\n",
    "        \n",
    "        elif distance <= 3 and distance != 0 and jaro>=0.80:\n",
    "            Potential.append(name)\n",
    "            Potential.append(mps)\n",
    "            Potential.append(jaro)\n",
    "    if Member != []:\n",
    "        Members_and_Potential.append(Member)\n",
    "    if Potential != []:        \n",
    "        Members_and_Potential.append(Potential)   \n",
    "\n",
    "Members_and_Potential = pd.DataFrame(Members_and_Potential) "
   ]
  },
  {
   "cell_type": "code",
   "execution_count": 42,
   "metadata": {
    "collapsed": false
   },
   "outputs": [],
   "source": [
    "Members_and_Potential.columns = ['Name', 'Vergleich', 'JaroScore']\n",
    "Members_and_Potential['Membership'] = 1\n"
   ]
  },
  {
   "cell_type": "code",
   "execution_count": 43,
   "metadata": {
    "collapsed": false
   },
   "outputs": [],
   "source": [
    "Members_and_Potential = Members_and_Potential.drop(Members_and_Potential.columns[[1,2]], axis=1)"
   ]
  },
  {
   "cell_type": "markdown",
   "metadata": {},
   "source": [
    "**Merge dataframe of potential Members of the MPS dataframe of Professors that signed the Hamburger Appell which also hold a membership in a think tank**"
   ]
  },
  {
   "cell_type": "code",
   "execution_count": 44,
   "metadata": {
    "collapsed": false
   },
   "outputs": [
    {
     "data": {
      "text/html": [
       "<div>\n",
       "<table border=\"1\" class=\"dataframe\">\n",
       "  <thead>\n",
       "    <tr style=\"text-align: right;\">\n",
       "      <th></th>\n",
       "      <th>Name</th>\n",
       "      <th>Thinktank</th>\n",
       "      <th>Forschungseinrichtung</th>\n",
       "      <th>Title</th>\n",
       "      <th>Membership_x</th>\n",
       "      <th>Appell</th>\n",
       "      <th>Membership_y</th>\n",
       "    </tr>\n",
       "  </thead>\n",
       "  <tbody>\n",
       "    <tr>\n",
       "      <th>0</th>\n",
       "      <td>Charles Blankart</td>\n",
       "      <td>Die Familienunternehmer - ASU</td>\n",
       "      <td>Humboldt-Universit_t Berlin</td>\n",
       "      <td>Prof.</td>\n",
       "      <td>0.0</td>\n",
       "      <td>HamburgerAppell</td>\n",
       "      <td>0.0</td>\n",
       "    </tr>\n",
       "    <tr>\n",
       "      <th>1</th>\n",
       "      <td>Charles Blankart</td>\n",
       "      <td>Hayek Institute</td>\n",
       "      <td>Humboldt-Universit_t Berlin</td>\n",
       "      <td>Prof.</td>\n",
       "      <td>0.0</td>\n",
       "      <td>HamburgerAppell</td>\n",
       "      <td>0.0</td>\n",
       "    </tr>\n",
       "    <tr>\n",
       "      <th>2</th>\n",
       "      <td>Lars P. Feld</td>\n",
       "      <td>Aktionsgemeinschaft Soziale Marktwirtschaft</td>\n",
       "      <td>Universit_t Marburg</td>\n",
       "      <td>Prof.</td>\n",
       "      <td>1.0</td>\n",
       "      <td>HamburgerAppell</td>\n",
       "      <td>1.0</td>\n",
       "    </tr>\n",
       "    <tr>\n",
       "      <th>3</th>\n",
       "      <td>Justus Haucap</td>\n",
       "      <td>ECONWATCH</td>\n",
       "      <td>Universit_t Bochum</td>\n",
       "      <td>Prof.</td>\n",
       "      <td>0.0</td>\n",
       "      <td>HamburgerAppell</td>\n",
       "      <td>0.0</td>\n",
       "    </tr>\n",
       "    <tr>\n",
       "      <th>4</th>\n",
       "      <td>Kai Konrad</td>\n",
       "      <td>ECONWATCH</td>\n",
       "      <td>Wissenschaftszentrum Berlin</td>\n",
       "      <td>Prof.</td>\n",
       "      <td>0.0</td>\n",
       "      <td>HamburgerAppell</td>\n",
       "      <td>0.0</td>\n",
       "    </tr>\n",
       "    <tr>\n",
       "      <th>5</th>\n",
       "      <td>Wolf Sch_fer</td>\n",
       "      <td>Hamburg Institute for International Economics</td>\n",
       "      <td>Helmut-Schmidt-Universit_t Hamburg</td>\n",
       "      <td>Prof.</td>\n",
       "      <td>0.0</td>\n",
       "      <td>HamburgerAppell</td>\n",
       "      <td>0.0</td>\n",
       "    </tr>\n",
       "    <tr>\n",
       "      <th>6</th>\n",
       "      <td>Friedrich Schneider</td>\n",
       "      <td>Agenda Austria</td>\n",
       "      <td>Universit_t Linz</td>\n",
       "      <td>Prof.</td>\n",
       "      <td>0.0</td>\n",
       "      <td>HamburgerAppell</td>\n",
       "      <td>0.0</td>\n",
       "    </tr>\n",
       "    <tr>\n",
       "      <th>7</th>\n",
       "      <td>Christian Seidl</td>\n",
       "      <td>Hanns Seidel Stiftung</td>\n",
       "      <td>Universit_t Kiel</td>\n",
       "      <td>Prof.</td>\n",
       "      <td>0.0</td>\n",
       "      <td>HamburgerAppell</td>\n",
       "      <td>0.0</td>\n",
       "    </tr>\n",
       "    <tr>\n",
       "      <th>8</th>\n",
       "      <td>Joachim Starbatty</td>\n",
       "      <td>Aktionsgemeinschaft Soziale Marktwirtschaft</td>\n",
       "      <td>Universit_t TÙbingen</td>\n",
       "      <td>Prof.</td>\n",
       "      <td>1.0</td>\n",
       "      <td>HamburgerAppell</td>\n",
       "      <td>1.0</td>\n",
       "    </tr>\n",
       "    <tr>\n",
       "      <th>9</th>\n",
       "      <td>Thomas Straubhaar</td>\n",
       "      <td>Friedrich Naumann Foundation</td>\n",
       "      <td>Universit_t Hamburg und HWWI</td>\n",
       "      <td>Prof.</td>\n",
       "      <td>0.0</td>\n",
       "      <td>HamburgerAppell</td>\n",
       "      <td>0.0</td>\n",
       "    </tr>\n",
       "    <tr>\n",
       "      <th>10</th>\n",
       "      <td>Thomas Straubhaar</td>\n",
       "      <td>Hamburg Institute for International Economics</td>\n",
       "      <td>Universit_t Hamburg und HWWI</td>\n",
       "      <td>Prof.</td>\n",
       "      <td>0.0</td>\n",
       "      <td>HamburgerAppell</td>\n",
       "      <td>0.0</td>\n",
       "    </tr>\n",
       "    <tr>\n",
       "      <th>11</th>\n",
       "      <td>Thusnelda Tivig</td>\n",
       "      <td>Hamburg Institute for International Economics</td>\n",
       "      <td>Universit_t Rostock</td>\n",
       "      <td>Prof.</td>\n",
       "      <td>0.0</td>\n",
       "      <td>HamburgerAppell</td>\n",
       "      <td>0.0</td>\n",
       "    </tr>\n",
       "    <tr>\n",
       "      <th>12</th>\n",
       "      <td>Viktor Vanberg</td>\n",
       "      <td>Hayek Institute</td>\n",
       "      <td>Universit_t Freiburg</td>\n",
       "      <td>Prof.</td>\n",
       "      <td>0.0</td>\n",
       "      <td>HamburgerAppell</td>\n",
       "      <td>0.0</td>\n",
       "    </tr>\n",
       "    <tr>\n",
       "      <th>13</th>\n",
       "      <td>Roland Vaubel</td>\n",
       "      <td>Hayek-Gesellschaft</td>\n",
       "      <td>Universit_t Mannheim</td>\n",
       "      <td>Prof.</td>\n",
       "      <td>1.0</td>\n",
       "      <td>HamburgerAppell</td>\n",
       "      <td>1.0</td>\n",
       "    </tr>\n",
       "    <tr>\n",
       "      <th>14</th>\n",
       "      <td>Gerhard Wegner</td>\n",
       "      <td>Aktionsgemeinschaft Soziale Marktwirtschaft</td>\n",
       "      <td>Universit_t Erfurt</td>\n",
       "      <td>Prof.</td>\n",
       "      <td>0.0</td>\n",
       "      <td>HamburgerAppell</td>\n",
       "      <td>0.0</td>\n",
       "    </tr>\n",
       "  </tbody>\n",
       "</table>\n",
       "</div>"
      ],
      "text/plain": [
       "                    Name                                      Thinktank  \\\n",
       "0       Charles Blankart                  Die Familienunternehmer - ASU   \n",
       "1       Charles Blankart                                Hayek Institute   \n",
       "2           Lars P. Feld    Aktionsgemeinschaft Soziale Marktwirtschaft   \n",
       "3          Justus Haucap                                      ECONWATCH   \n",
       "4             Kai Konrad                                      ECONWATCH   \n",
       "5           Wolf Sch_fer  Hamburg Institute for International Economics   \n",
       "6    Friedrich Schneider                                 Agenda Austria   \n",
       "7        Christian Seidl                          Hanns Seidel Stiftung   \n",
       "8      Joachim Starbatty    Aktionsgemeinschaft Soziale Marktwirtschaft   \n",
       "9      Thomas Straubhaar                   Friedrich Naumann Foundation   \n",
       "10     Thomas Straubhaar  Hamburg Institute for International Economics   \n",
       "11       Thusnelda Tivig  Hamburg Institute for International Economics   \n",
       "12        Viktor Vanberg                                Hayek Institute   \n",
       "13         Roland Vaubel                             Hayek-Gesellschaft   \n",
       "14        Gerhard Wegner    Aktionsgemeinschaft Soziale Marktwirtschaft   \n",
       "\n",
       "                  Forschungseinrichtung   Title  Membership_x  \\\n",
       "0           Humboldt-Universit_t Berlin  Prof.            0.0   \n",
       "1           Humboldt-Universit_t Berlin  Prof.            0.0   \n",
       "2                   Universit_t Marburg  Prof.            1.0   \n",
       "3                    Universit_t Bochum  Prof.            0.0   \n",
       "4           Wissenschaftszentrum Berlin  Prof.            0.0   \n",
       "5    Helmut-Schmidt-Universit_t Hamburg  Prof.            0.0   \n",
       "6                      Universit_t Linz  Prof.            0.0   \n",
       "7                      Universit_t Kiel  Prof.            0.0   \n",
       "8                  Universit_t TÙbingen  Prof.            1.0   \n",
       "9          Universit_t Hamburg und HWWI  Prof.            0.0   \n",
       "10         Universit_t Hamburg und HWWI  Prof.            0.0   \n",
       "11                  Universit_t Rostock  Prof.            0.0   \n",
       "12                 Universit_t Freiburg  Prof.            0.0   \n",
       "13                 Universit_t Mannheim  Prof.            1.0   \n",
       "14                   Universit_t Erfurt  Prof.            0.0   \n",
       "\n",
       "             Appell  Membership_y  \n",
       "0   HamburgerAppell           0.0  \n",
       "1   HamburgerAppell           0.0  \n",
       "2   HamburgerAppell           1.0  \n",
       "3   HamburgerAppell           0.0  \n",
       "4   HamburgerAppell           0.0  \n",
       "5   HamburgerAppell           0.0  \n",
       "6   HamburgerAppell           0.0  \n",
       "7   HamburgerAppell           0.0  \n",
       "8   HamburgerAppell           1.0  \n",
       "9   HamburgerAppell           0.0  \n",
       "10  HamburgerAppell           0.0  \n",
       "11  HamburgerAppell           0.0  \n",
       "12  HamburgerAppell           0.0  \n",
       "13  HamburgerAppell           1.0  \n",
       "14  HamburgerAppell           0.0  "
      ]
     },
     "execution_count": 44,
     "metadata": {},
     "output_type": "execute_result"
    }
   ],
   "source": [
    "Liste = Liste.merge(Members_and_Potential, on='Name', how='left')\n",
    "Liste = Liste.fillna(0)\n",
    "Liste['Appell'] = 'HamburgerAppell'\n",
    "Liste"
   ]
  },
  {
   "cell_type": "markdown",
   "metadata": {},
   "source": [
    "**Save dataframe to csv file for further analysis**"
   ]
  },
  {
   "cell_type": "code",
   "execution_count": 45,
   "metadata": {
    "collapsed": true
   },
   "outputs": [],
   "source": [
    "Path = ''\n",
    "Liste.to_csv(Path, encoding = \"ISO-8859-1\", sep=\";\", ignore_index=True)"
   ]
  },
  {
   "cell_type": "code",
   "execution_count": null,
   "metadata": {
    "collapsed": true
   },
   "outputs": [],
   "source": []
  }
 ],
 "metadata": {
  "kernelspec": {
   "display_name": "Python 3",
   "language": "python",
   "name": "python3"
  },
  "language_info": {
   "codemirror_mode": {
    "name": "ipython",
    "version": 3
   },
   "file_extension": ".py",
   "mimetype": "text/x-python",
   "name": "python",
   "nbconvert_exporter": "python",
   "pygments_lexer": "ipython3",
   "version": "3.5.2"
  }
 },
 "nbformat": 4,
 "nbformat_minor": 1
}
